{
 "cells": [
  {
   "cell_type": "code",
   "execution_count": 1,
   "metadata": {},
   "outputs": [],
   "source": [
    "%matplotlib inline\n",
    "%matplotlib notebook\n",
    "#Dependencies\n",
    "import pandas as pd\n",
    "import numpy as np\n",
    "import os\n",
    "import matplotlib.pyplot as plt\n",
    "import scipy.stats as stats\n",
    "#from stats import mean, median, mode, multi_mode\n",
    "\n",
    "import warnings\n",
    "warnings.filterwarnings('ignore')\n"
   ]
  },
  {
   "cell_type": "code",
   "execution_count": 2,
   "metadata": {},
   "outputs": [
    {
     "data": {
      "text/html": [
       "<div>\n",
       "<style scoped>\n",
       "    .dataframe tbody tr th:only-of-type {\n",
       "        vertical-align: middle;\n",
       "    }\n",
       "\n",
       "    .dataframe tbody tr th {\n",
       "        vertical-align: top;\n",
       "    }\n",
       "\n",
       "    .dataframe thead th {\n",
       "        text-align: right;\n",
       "    }\n",
       "</style>\n",
       "<table border=\"1\" class=\"dataframe\">\n",
       "  <thead>\n",
       "    <tr style=\"text-align: right;\">\n",
       "      <th></th>\n",
       "      <th>id</th>\n",
       "      <th>Job_Title</th>\n",
       "      <th>Link</th>\n",
       "      <th>Queried_Salary</th>\n",
       "      <th>Job_Type</th>\n",
       "      <th>Skill</th>\n",
       "      <th>No_of_Skills</th>\n",
       "      <th>Company</th>\n",
       "      <th>No_of_Reviews</th>\n",
       "      <th>No_of_Stars</th>\n",
       "      <th>...</th>\n",
       "      <th>MD</th>\n",
       "      <th>DC</th>\n",
       "      <th>NC</th>\n",
       "      <th>Other_states</th>\n",
       "      <th>Consulting and Business Services</th>\n",
       "      <th>Internet and Software</th>\n",
       "      <th>Banks and Financial Services</th>\n",
       "      <th>Health Care</th>\n",
       "      <th>Insurance</th>\n",
       "      <th>Other_industries</th>\n",
       "    </tr>\n",
       "  </thead>\n",
       "  <tbody>\n",
       "    <tr>\n",
       "      <th>0</th>\n",
       "      <td>0</td>\n",
       "      <td>Data Engineer</td>\n",
       "      <td>https://www.indeed.com/rc/clk?jk=5a2a43234c789...</td>\n",
       "      <td>80001-99999</td>\n",
       "      <td>data_scientist</td>\n",
       "      <td>['Microsoft SQL Server', 'Technical Writing', ...</td>\n",
       "      <td>6</td>\n",
       "      <td>Colorado Community Managed Care Network</td>\n",
       "      <td>NaN</td>\n",
       "      <td>NaN</td>\n",
       "      <td>...</td>\n",
       "      <td>0</td>\n",
       "      <td>0</td>\n",
       "      <td>0</td>\n",
       "      <td>0</td>\n",
       "      <td>0</td>\n",
       "      <td>0</td>\n",
       "      <td>0</td>\n",
       "      <td>0</td>\n",
       "      <td>0</td>\n",
       "      <td>0</td>\n",
       "    </tr>\n",
       "    <tr>\n",
       "      <th>1</th>\n",
       "      <td>1</td>\n",
       "      <td>Data Scientist</td>\n",
       "      <td>https://www.indeed.com/rc/clk?jk=df00df326efa1...</td>\n",
       "      <td>&gt;160000</td>\n",
       "      <td>data_scientist</td>\n",
       "      <td>['TensorFlow', 'Machine Learning', 'Hadoop', '...</td>\n",
       "      <td>11</td>\n",
       "      <td>Cisco Systems</td>\n",
       "      <td>4251.0</td>\n",
       "      <td>4.1</td>\n",
       "      <td>...</td>\n",
       "      <td>0</td>\n",
       "      <td>0</td>\n",
       "      <td>0</td>\n",
       "      <td>0</td>\n",
       "      <td>0</td>\n",
       "      <td>1</td>\n",
       "      <td>0</td>\n",
       "      <td>0</td>\n",
       "      <td>0</td>\n",
       "      <td>0</td>\n",
       "    </tr>\n",
       "    <tr>\n",
       "      <th>2</th>\n",
       "      <td>2</td>\n",
       "      <td>Data Scientist</td>\n",
       "      <td>https://www.indeed.com/rc/clk?jk=fbb4b61d6a578...</td>\n",
       "      <td>140000-159999</td>\n",
       "      <td>data_scientist</td>\n",
       "      <td>['TensorFlow', 'Machine Learning', 'Hadoop', '...</td>\n",
       "      <td>11</td>\n",
       "      <td>Cisco Systems</td>\n",
       "      <td>4251.0</td>\n",
       "      <td>4.1</td>\n",
       "      <td>...</td>\n",
       "      <td>0</td>\n",
       "      <td>0</td>\n",
       "      <td>0</td>\n",
       "      <td>0</td>\n",
       "      <td>0</td>\n",
       "      <td>1</td>\n",
       "      <td>0</td>\n",
       "      <td>0</td>\n",
       "      <td>0</td>\n",
       "      <td>0</td>\n",
       "    </tr>\n",
       "    <tr>\n",
       "      <th>3</th>\n",
       "      <td>3</td>\n",
       "      <td>Data Scientist</td>\n",
       "      <td>https://www.indeed.com/rc/clk?jk=8b80cf0fbff8c...</td>\n",
       "      <td>&gt;160000</td>\n",
       "      <td>data_scientist</td>\n",
       "      <td>['TensorFlow', 'Machine Learning', 'Hadoop', '...</td>\n",
       "      <td>11</td>\n",
       "      <td>Cisco Systems</td>\n",
       "      <td>4251.0</td>\n",
       "      <td>4.1</td>\n",
       "      <td>...</td>\n",
       "      <td>0</td>\n",
       "      <td>0</td>\n",
       "      <td>0</td>\n",
       "      <td>0</td>\n",
       "      <td>0</td>\n",
       "      <td>1</td>\n",
       "      <td>0</td>\n",
       "      <td>0</td>\n",
       "      <td>0</td>\n",
       "      <td>0</td>\n",
       "    </tr>\n",
       "    <tr>\n",
       "      <th>4</th>\n",
       "      <td>4</td>\n",
       "      <td>Data Engineer</td>\n",
       "      <td>https://www.indeed.com/rc/clk?jk=051578f616806...</td>\n",
       "      <td>100000-119999</td>\n",
       "      <td>data_scientist</td>\n",
       "      <td>['TS/SCI Clearance', 'Signal Processing', 'Mic...</td>\n",
       "      <td>3</td>\n",
       "      <td>DCS Corp</td>\n",
       "      <td>46.0</td>\n",
       "      <td>4.5</td>\n",
       "      <td>...</td>\n",
       "      <td>0</td>\n",
       "      <td>0</td>\n",
       "      <td>0</td>\n",
       "      <td>1</td>\n",
       "      <td>0</td>\n",
       "      <td>0</td>\n",
       "      <td>0</td>\n",
       "      <td>0</td>\n",
       "      <td>0</td>\n",
       "      <td>1</td>\n",
       "    </tr>\n",
       "  </tbody>\n",
       "</table>\n",
       "<p>5 rows × 43 columns</p>\n",
       "</div>"
      ],
      "text/plain": [
       "   id       Job_Title                                               Link  \\\n",
       "0   0   Data Engineer  https://www.indeed.com/rc/clk?jk=5a2a43234c789...   \n",
       "1   1  Data Scientist  https://www.indeed.com/rc/clk?jk=df00df326efa1...   \n",
       "2   2  Data Scientist  https://www.indeed.com/rc/clk?jk=fbb4b61d6a578...   \n",
       "3   3  Data Scientist  https://www.indeed.com/rc/clk?jk=8b80cf0fbff8c...   \n",
       "4   4   Data Engineer  https://www.indeed.com/rc/clk?jk=051578f616806...   \n",
       "\n",
       "  Queried_Salary        Job_Type  \\\n",
       "0    80001-99999  data_scientist   \n",
       "1        >160000  data_scientist   \n",
       "2  140000-159999  data_scientist   \n",
       "3        >160000  data_scientist   \n",
       "4  100000-119999  data_scientist   \n",
       "\n",
       "                                               Skill  No_of_Skills  \\\n",
       "0  ['Microsoft SQL Server', 'Technical Writing', ...             6   \n",
       "1  ['TensorFlow', 'Machine Learning', 'Hadoop', '...            11   \n",
       "2  ['TensorFlow', 'Machine Learning', 'Hadoop', '...            11   \n",
       "3  ['TensorFlow', 'Machine Learning', 'Hadoop', '...            11   \n",
       "4  ['TS/SCI Clearance', 'Signal Processing', 'Mic...             3   \n",
       "\n",
       "                                   Company  No_of_Reviews  No_of_Stars  ...  \\\n",
       "0  Colorado Community Managed Care Network            NaN          NaN  ...   \n",
       "1                            Cisco Systems         4251.0          4.1  ...   \n",
       "2                            Cisco Systems         4251.0          4.1  ...   \n",
       "3                            Cisco Systems         4251.0          4.1  ...   \n",
       "4                                 DCS Corp           46.0          4.5  ...   \n",
       "\n",
       "   MD DC NC Other_states Consulting and Business Services  \\\n",
       "0   0  0  0            0                                0   \n",
       "1   0  0  0            0                                0   \n",
       "2   0  0  0            0                                0   \n",
       "3   0  0  0            0                                0   \n",
       "4   0  0  0            1                                0   \n",
       "\n",
       "  Internet and Software  Banks and Financial Services  Health Care  Insurance  \\\n",
       "0                     0                             0            0          0   \n",
       "1                     1                             0            0          0   \n",
       "2                     1                             0            0          0   \n",
       "3                     1                             0            0          0   \n",
       "4                     0                             0            0          0   \n",
       "\n",
       "   Other_industries  \n",
       "0                 0  \n",
       "1                 0  \n",
       "2                 0  \n",
       "3                 0  \n",
       "4                 1  \n",
       "\n",
       "[5 rows x 43 columns]"
      ]
     },
     "execution_count": 2,
     "metadata": {},
     "output_type": "execute_result"
    }
   ],
   "source": [
    "indeed_data_df = pd.read_csv('./resources/01_indeed_job_dataset.csv')\n",
    "indeed_data_df.head()"
   ]
  },
  {
   "cell_type": "code",
   "execution_count": 3,
   "metadata": {},
   "outputs": [
    {
     "data": {
      "text/html": [
       "<div>\n",
       "<style scoped>\n",
       "    .dataframe tbody tr th:only-of-type {\n",
       "        vertical-align: middle;\n",
       "    }\n",
       "\n",
       "    .dataframe tbody tr th {\n",
       "        vertical-align: top;\n",
       "    }\n",
       "\n",
       "    .dataframe thead th {\n",
       "        text-align: right;\n",
       "    }\n",
       "</style>\n",
       "<table border=\"1\" class=\"dataframe\">\n",
       "  <thead>\n",
       "    <tr style=\"text-align: right;\">\n",
       "      <th></th>\n",
       "      <th>id</th>\n",
       "      <th>Job_Type</th>\n",
       "      <th>Job_Title</th>\n",
       "      <th>Location</th>\n",
       "      <th>Company</th>\n",
       "      <th>Queried_Salary</th>\n",
       "    </tr>\n",
       "  </thead>\n",
       "  <tbody>\n",
       "    <tr>\n",
       "      <th>0</th>\n",
       "      <td>0</td>\n",
       "      <td>data_scientist</td>\n",
       "      <td>Data Engineer</td>\n",
       "      <td>NaN</td>\n",
       "      <td>Colorado Community Managed Care Network</td>\n",
       "      <td>80001-99999</td>\n",
       "    </tr>\n",
       "    <tr>\n",
       "      <th>1</th>\n",
       "      <td>1</td>\n",
       "      <td>data_scientist</td>\n",
       "      <td>Data Scientist</td>\n",
       "      <td>CA</td>\n",
       "      <td>Cisco Systems</td>\n",
       "      <td>&gt;160000</td>\n",
       "    </tr>\n",
       "    <tr>\n",
       "      <th>2</th>\n",
       "      <td>2</td>\n",
       "      <td>data_scientist</td>\n",
       "      <td>Data Scientist</td>\n",
       "      <td>CA</td>\n",
       "      <td>Cisco Systems</td>\n",
       "      <td>140000-159999</td>\n",
       "    </tr>\n",
       "    <tr>\n",
       "      <th>3</th>\n",
       "      <td>3</td>\n",
       "      <td>data_scientist</td>\n",
       "      <td>Data Scientist</td>\n",
       "      <td>CA</td>\n",
       "      <td>Cisco Systems</td>\n",
       "      <td>&gt;160000</td>\n",
       "    </tr>\n",
       "    <tr>\n",
       "      <th>4</th>\n",
       "      <td>4</td>\n",
       "      <td>data_scientist</td>\n",
       "      <td>Data Engineer</td>\n",
       "      <td>FL</td>\n",
       "      <td>DCS Corp</td>\n",
       "      <td>100000-119999</td>\n",
       "    </tr>\n",
       "  </tbody>\n",
       "</table>\n",
       "</div>"
      ],
      "text/plain": [
       "   id        Job_Type       Job_Title Location  \\\n",
       "0   0  data_scientist   Data Engineer      NaN   \n",
       "1   1  data_scientist  Data Scientist       CA   \n",
       "2   2  data_scientist  Data Scientist       CA   \n",
       "3   3  data_scientist  Data Scientist       CA   \n",
       "4   4  data_scientist   Data Engineer       FL   \n",
       "\n",
       "                                   Company Queried_Salary  \n",
       "0  Colorado Community Managed Care Network    80001-99999  \n",
       "1                            Cisco Systems        >160000  \n",
       "2                            Cisco Systems  140000-159999  \n",
       "3                            Cisco Systems        >160000  \n",
       "4                                 DCS Corp  100000-119999  "
      ]
     },
     "execution_count": 3,
     "metadata": {},
     "output_type": "execute_result"
    }
   ],
   "source": [
    "indeed_Jobtype_df = indeed_data_df[['id','Job_Type','Job_Title','Location','Company', 'Queried_Salary']]\n",
    "indeed_Jobtype_df.head()"
   ]
  },
  {
   "cell_type": "code",
   "execution_count": 4,
   "metadata": {},
   "outputs": [
    {
     "data": {
      "text/html": [
       "<div>\n",
       "<style scoped>\n",
       "    .dataframe tbody tr th:only-of-type {\n",
       "        vertical-align: middle;\n",
       "    }\n",
       "\n",
       "    .dataframe tbody tr th {\n",
       "        vertical-align: top;\n",
       "    }\n",
       "\n",
       "    .dataframe thead th {\n",
       "        text-align: right;\n",
       "    }\n",
       "</style>\n",
       "<table border=\"1\" class=\"dataframe\">\n",
       "  <thead>\n",
       "    <tr style=\"text-align: right;\">\n",
       "      <th></th>\n",
       "      <th>Total Positions Open</th>\n",
       "    </tr>\n",
       "  </thead>\n",
       "  <tbody>\n",
       "    <tr>\n",
       "      <th>0</th>\n",
       "      <td>5715</td>\n",
       "    </tr>\n",
       "  </tbody>\n",
       "</table>\n",
       "</div>"
      ],
      "text/plain": [
       "   Total Positions Open\n",
       "0                  5715"
      ]
     },
     "execution_count": 4,
     "metadata": {},
     "output_type": "execute_result"
    }
   ],
   "source": [
    "# Total Number of Jobs Positions Availables\n",
    "Tot_Jobs = pd.DataFrame({\"Total Positions Open\":[len(indeed_data_df['id'].unique())]})\n",
    "Tot_Jobs"
   ]
  },
  {
   "cell_type": "code",
   "execution_count": 5,
   "metadata": {},
   "outputs": [
    {
     "data": {
      "text/plain": [
       "data_scientist    2543\n",
       "data_analyst      1793\n",
       "data_engineer     1379\n",
       "Name: Job_Type, dtype: int64"
      ]
     },
     "execution_count": 5,
     "metadata": {},
     "output_type": "execute_result"
    }
   ],
   "source": [
    "# Total Number of Jobs Positions by Job_Type\n",
    "Job_counts = indeed_Jobtype_df[\"Job_Type\"].value_counts()\n",
    "Job_counts"
   ]
  },
  {
   "cell_type": "code",
   "execution_count": 6,
   "metadata": {},
   "outputs": [
    {
     "data": {
      "image/png": "[encoded data removed]",
      "text/plain": [
       "<Figure size 576x504 with 1 Axes>"
      ]
     },
     "metadata": {
      "needs_background": "light"
     },
     "output_type": "display_data"
    },
    {
     "data": {
      "text/plain": [
       "<Figure size 432x288 with 0 Axes>"
      ]
     },
     "metadata": {},
     "output_type": "display_data"
    }
   ],
   "source": [
    "fig, ax = plt.subplots(figsize=(8,7))\n",
    "counts = [2543, 1793,1379]\n",
    "x_axis = np.arange(len(counts))\n",
    "plt.bar(x_axis, counts, color='b', align=\"center\")\n",
    "plt.ylim(0, max(counts)+ 500)\n",
    "tick_locations = [value for value in x_axis]\n",
    "plt.xlim(-0.75, len(x_axis) -0.25)\n",
    "tick_locations = [value for value in x_axis]\n",
    "plt.xticks(tick_locations, [\"data_scientist\", \"data_analyst\", \"data_engineer\"])\n",
    "plt.title(\"Types of Data Analisys Jobs\")\n",
    "plt.ylabel(\"Job Positions Open by Job Type\")\n",
    "\n",
    "plt.savefig(\"Output & Graph/Types of Data Analysis Jobs.jpg\")\n",
    "plt.grid()\n",
    "plt.show()\n",
    "plt.tight_layout()"
   ]
  },
  {
   "cell_type": "code",
   "execution_count": 7,
   "metadata": {},
   "outputs": [
    {
     "data": {
      "text/plain": [
       "data_scientist    44.50%\n",
       "data_analyst      31.37%\n",
       "data_engineer     24.13%\n",
       "Name: Job_Type, dtype: object"
      ]
     },
     "execution_count": 7,
     "metadata": {},
     "output_type": "execute_result"
    }
   ],
   "source": [
    "#Group Job Type %\n",
    "total_jobs = len(indeed_Jobtype_df)\n",
    "Job_perc = Job_counts/total_jobs*100\n",
    "#print(Job_perc)\n",
    "Job_percp = Job_counts/total_jobs\n",
    "Job_percp = Job_percp.map(lambda n: '{:.2%}'.format(n))\n",
    "Job_percp"
   ]
  },
  {
   "cell_type": "code",
   "execution_count": 8,
   "metadata": {},
   "outputs": [
    {
     "data": {
      "image/png": "[encoded data removed]",
      "text/plain": [
       "<Figure size 576x504 with 1 Axes>"
      ]
     },
     "metadata": {
      "needs_background": "light"
     },
     "output_type": "display_data"
    },
    {
     "data": {
      "text/plain": [
       "<Figure size 432x288 with 0 Axes>"
      ]
     },
     "metadata": {},
     "output_type": "display_data"
    }
   ],
   "source": [
    "fig, ax = plt.subplots(figsize=(8,7))\n",
    "counts = [44.5, 31.4,24.13]\n",
    "x_axis = np.arange(len(counts))\n",
    "plt.bar(x_axis, counts, color='r', align=\"center\")\n",
    "plt.ylim(0, max(counts)+ 50)\n",
    "tick_locations = [value for value in x_axis]\n",
    "plt.xlim(-0.75, len(x_axis) -0.25)\n",
    "tick_locations = [value for value in x_axis]\n",
    "plt.xticks(tick_locations, [\"data_scientist\", \"data_analyst\", \"data_engineer\"])\n",
    "plt.title(\"Types of Data Analisys Jobs by %\")\n",
    "plt.ylabel(\"% of Job Positions Open by Job Type\")\n",
    "plt.savefig(\"Output & Graph/Types of Data Analysis Jobs by %.jpg\")\n",
    "plt.grid()\n",
    "plt.show()\n",
    "plt.tight_layout()"
   ]
  },
  {
   "cell_type": "code",
   "execution_count": 9,
   "metadata": {},
   "outputs": [
    {
     "data": {
      "image/png": "[encoded data removed]",
      "text/plain": [
       "<Figure size 4320x720 with 1 Axes>"
      ]
     },
     "metadata": {},
     "output_type": "display_data"
    }
   ],
   "source": [
    "fig, ax = plt.subplots(figsize=(60, 10), subplot_kw=dict(aspect=\"equal\"))\n",
    "\n",
    "jobs = [\"2543 data_scientist\", \"1793 data_analyst\", \"1379 data_engineer\"]\n",
    "\n",
    "data = [float(x.split()[0]) for x in jobs]\n",
    "counts = [x.split()[-1] for x in jobs]\n",
    "\n",
    "\n",
    "def func(pct, allvals):\n",
    "    absolute = int(pct/100.*np.sum(allvals))\n",
    "    return \"{:.1f}%\\n({:d} pos)\".format(pct, absolute)\n",
    "\n",
    "\n",
    "wedges, texts, autotexts = ax.pie(data, autopct=lambda pct: func(pct, data),\n",
    "                                  textprops=dict(color=\"w\"))\n",
    "\n",
    "ax.legend(wedges, counts,\n",
    "          title=\"Job_Types\",\n",
    "          loc=\"center left\",\n",
    "          bbox_to_anchor=(1, 0, 0.5, 1))\n",
    "\n",
    "plt.setp(autotexts, size=18, weight=\"bold\")\n",
    "\n",
    "ax.set_title(\"Types of Data Analisys Jobs 2018 - Indeed Dataset\", size=24, color='b')\n",
    "plt.savefig(\"Output & Graph/Types of Data Analysis Jobs &%2018.jpg\")\n",
    "plt.show()\n"
   ]
  },
  {
   "cell_type": "code",
   "execution_count": 10,
   "metadata": {},
   "outputs": [
    {
     "data": {
      "text/html": [
       "<div>\n",
       "<style scoped>\n",
       "    .dataframe tbody tr th:only-of-type {\n",
       "        vertical-align: middle;\n",
       "    }\n",
       "\n",
       "    .dataframe tbody tr th {\n",
       "        vertical-align: top;\n",
       "    }\n",
       "\n",
       "    .dataframe thead th {\n",
       "        text-align: right;\n",
       "    }\n",
       "</style>\n",
       "<table border=\"1\" class=\"dataframe\">\n",
       "  <thead>\n",
       "    <tr style=\"text-align: right;\">\n",
       "      <th></th>\n",
       "      <th>Job_Type</th>\n",
       "      <th>Queried_Salary</th>\n",
       "    </tr>\n",
       "  </thead>\n",
       "  <tbody>\n",
       "    <tr>\n",
       "      <th>0</th>\n",
       "      <td>data_scientist</td>\n",
       "      <td>80001-99999</td>\n",
       "    </tr>\n",
       "    <tr>\n",
       "      <th>1</th>\n",
       "      <td>data_scientist</td>\n",
       "      <td>&gt;160000</td>\n",
       "    </tr>\n",
       "    <tr>\n",
       "      <th>2</th>\n",
       "      <td>data_scientist</td>\n",
       "      <td>140000-159999</td>\n",
       "    </tr>\n",
       "    <tr>\n",
       "      <th>3</th>\n",
       "      <td>data_scientist</td>\n",
       "      <td>&gt;160000</td>\n",
       "    </tr>\n",
       "    <tr>\n",
       "      <th>4</th>\n",
       "      <td>data_scientist</td>\n",
       "      <td>100000-119999</td>\n",
       "    </tr>\n",
       "  </tbody>\n",
       "</table>\n",
       "</div>"
      ],
      "text/plain": [
       "         Job_Type Queried_Salary\n",
       "0  data_scientist    80001-99999\n",
       "1  data_scientist        >160000\n",
       "2  data_scientist  140000-159999\n",
       "3  data_scientist        >160000\n",
       "4  data_scientist  100000-119999"
      ]
     },
     "execution_count": 10,
     "metadata": {},
     "output_type": "execute_result"
    }
   ],
   "source": [
    "# Group by Salary\n",
    "by_Salary_df = indeed_Jobtype_df.loc[:, [\"Job_Type\",\"Queried_Salary\"]]\n",
    "by_Salary_df.head()"
   ]
  },
  {
   "cell_type": "code",
   "execution_count": 11,
   "metadata": {},
   "outputs": [
    {
     "data": {
      "text/plain": [
       "100000-119999    1394\n",
       "120000-139999    1292\n",
       "80001-99999       953\n",
       "140000-159999     873\n",
       "<80000            788\n",
       ">160000           415\n",
       "Name: Queried_Salary, dtype: int64"
      ]
     },
     "execution_count": 11,
     "metadata": {},
     "output_type": "execute_result"
    }
   ],
   "source": [
    "Job_salary_df = by_Salary_df[\"Queried_Salary\"].value_counts()\n",
    "Job_salary_df"
   ]
  },
  {
   "cell_type": "code",
   "execution_count": 12,
   "metadata": {},
   "outputs": [
    {
     "data": {
      "text/plain": [
       "Job_Type        Queried_Salary\n",
       "data_analyst    100000-119999     301\n",
       "                120000-139999     501\n",
       "                140000-159999     401\n",
       "                80001-99999       195\n",
       "                <80000            201\n",
       "                >160000           194\n",
       "data_engineer   100000-119999     274\n",
       "                120000-139999     337\n",
       "                140000-159999     308\n",
       "                80001-99999       181\n",
       "                <80000            118\n",
       "                >160000           161\n",
       "data_scientist  100000-119999     819\n",
       "                120000-139999     454\n",
       "                140000-159999     164\n",
       "                80001-99999       577\n",
       "                <80000            469\n",
       "                >160000            60\n",
       "Name: Job_Type, dtype: int64"
      ]
     },
     "execution_count": 12,
     "metadata": {},
     "output_type": "execute_result"
    }
   ],
   "source": [
    "grouped_df = by_Salary_df.groupby(['Job_Type','Queried_Salary'])['Job_Type']\n",
    "avg_job_df = grouped_df.count()\n",
    "avg_job_df"
   ]
  },
  {
   "cell_type": "code",
   "execution_count": 13,
   "metadata": {},
   "outputs": [],
   "source": [
    "# Data Analysys Salaries"
   ]
  },
  {
   "cell_type": "code",
   "execution_count": 14,
   "metadata": {},
   "outputs": [
    {
     "data": {
      "image/png": "[encoded data removed]",
      "text/plain": [
       "<Figure size 864x504 with 1 Axes>"
      ]
     },
     "metadata": {
      "needs_background": "light"
     },
     "output_type": "display_data"
    }
   ],
   "source": [
    "fig, ax = plt.subplots(figsize=(12,7))\n",
    "counts = [201, 195, 301 , 501, 401, 194]\n",
    "x_axis = np.arange(len(counts))\n",
    "plt.bar(x_axis, counts, color='g', align=\"center\")\n",
    "plt.ylim(0, max(counts)+ 150)\n",
    "tick_locations = [value for value in x_axis]\n",
    "plt.xlim(-0.75, len(x_axis) -0.25)\n",
    "tick_locations = [value for value in x_axis]\n",
    "plt.xticks(tick_locations, [\"<$80000\", \"$80001-$99999\",\"$100000-$119999\", \n",
    "                            \"$120000-$139999\", \"$140000-$159999\", \">$160000 \"])\n",
    "plt.title(\"Data Analyst Salaries\")\n",
    "plt.ylabel(\"Open Position for Data Analyst\")\n",
    "plt.xlabel(\"Salary Scale in $\")\n",
    "plt.grid()\n",
    "plt.tight_layout()\n",
    "plt.savefig(\"Output & Graph/Data Analyst Salary.jpg\")\n",
    "plt.show()"
   ]
  },
  {
   "cell_type": "code",
   "execution_count": 15,
   "metadata": {},
   "outputs": [],
   "source": [
    "# Data Engineer Salaries"
   ]
  },
  {
   "cell_type": "code",
   "execution_count": 16,
   "metadata": {},
   "outputs": [
    {
     "data": {
      "image/png": "[encoded data removed]",
      "text/plain": [
       "<Figure size 1080x504 with 1 Axes>"
      ]
     },
     "metadata": {
      "needs_background": "light"
     },
     "output_type": "display_data"
    },
    {
     "data": {
      "text/plain": [
       "<Figure size 432x288 with 0 Axes>"
      ]
     },
     "metadata": {},
     "output_type": "display_data"
    }
   ],
   "source": [
    "fig, ax = plt.subplots(figsize=(15,7))\n",
    "counts = [118, 181, 273 , 337, 308, 161]\n",
    "x_axis = np.arange(len(counts))\n",
    "plt.bar(x_axis, counts, color='g', align=\"center\")\n",
    "plt.ylim(0, max(counts)+ 150)\n",
    "tick_locations = [value for value in x_axis]\n",
    "plt.xlim(-0.75, len(x_axis) -0.25)\n",
    "tick_locations = [value for value in x_axis]\n",
    "plt.xticks(tick_locations, [\"$<80000\", \"$80001-$99999\",\"$100000-$119999\", \n",
    "                            \"$120000-$139999\", \"$140000-$159999\", \"$>160000 \"])\n",
    "plt.title(\"Data Engineer Salaries\")\n",
    "plt.ylabel(\"Open Position for Data Engineer\")\n",
    "plt.xlabel(\"Salary Scale in $\")\n",
    "plt.grid()\n",
    "plt.savefig(\"Output & Graph/Data Engineer Salary.jpg\")\n",
    "plt.show()\n",
    "plt.tight_layout()"
   ]
  },
  {
   "cell_type": "code",
   "execution_count": 17,
   "metadata": {},
   "outputs": [],
   "source": [
    "# Data Scientist Salaries"
   ]
  },
  {
   "cell_type": "code",
   "execution_count": 18,
   "metadata": {},
   "outputs": [
    {
     "data": {
      "image/png": "[encoded data removed]",
      "text/plain": [
       "<Figure size 1080x504 with 1 Axes>"
      ]
     },
     "metadata": {
      "needs_background": "light"
     },
     "output_type": "display_data"
    },
    {
     "data": {
      "text/plain": [
       "<Figure size 432x288 with 0 Axes>"
      ]
     },
     "metadata": {},
     "output_type": "display_data"
    }
   ],
   "source": [
    "fig, ax = plt.subplots(figsize=(15,7))\n",
    "counts = [469, 577,819 , 454, 164, 60]\n",
    "x_axis = np.arange(len(counts))\n",
    "plt.bar(x_axis, counts, color='g', align=\"center\")\n",
    "plt.ylim(0, max(counts)+ 150)\n",
    "tick_locations = [value for value in x_axis]\n",
    "plt.xlim(-0.75, len(x_axis) -0.25)\n",
    "tick_locations = [value for value in x_axis]\n",
    "plt.xticks(tick_locations, [\"<$80000\", \"$80001-$99999\",\"$100000-$119999\", \"$120000-$139999\", \"$140000-$159999\", \"$>160000 \"])\n",
    "plt.title(\"Data Scientist Salaries\")\n",
    "plt.ylabel(\"Open Position for Data Scientist\")\n",
    "plt.xlabel(\"Salary Scale in $\")\n",
    "plt.savefig(\"Output & Graph/Data Scientist Salary.jpg\")\n",
    "plt.grid()\n",
    "plt.show()\n",
    "plt.tight_layout()"
   ]
  },
  {
   "cell_type": "code",
   "execution_count": 19,
   "metadata": {},
   "outputs": [
    {
     "data": {
      "text/html": [
       "<div>\n",
       "<style scoped>\n",
       "    .dataframe tbody tr th:only-of-type {\n",
       "        vertical-align: middle;\n",
       "    }\n",
       "\n",
       "    .dataframe tbody tr th {\n",
       "        vertical-align: top;\n",
       "    }\n",
       "\n",
       "    .dataframe thead th {\n",
       "        text-align: right;\n",
       "    }\n",
       "</style>\n",
       "<table border=\"1\" class=\"dataframe\">\n",
       "  <thead>\n",
       "    <tr style=\"text-align: right;\">\n",
       "      <th></th>\n",
       "      <th>id</th>\n",
       "      <th>Job_Title</th>\n",
       "      <th>Link</th>\n",
       "      <th>Queried_Salary</th>\n",
       "      <th>Job_Type</th>\n",
       "      <th>Skill</th>\n",
       "      <th>No_of_Skills</th>\n",
       "      <th>Company</th>\n",
       "      <th>No_of_Reviews</th>\n",
       "      <th>No_of_Stars</th>\n",
       "      <th>...</th>\n",
       "      <th>MD</th>\n",
       "      <th>DC</th>\n",
       "      <th>NC</th>\n",
       "      <th>Other_states</th>\n",
       "      <th>Consulting and Business Services</th>\n",
       "      <th>Internet and Software</th>\n",
       "      <th>Banks and Financial Services</th>\n",
       "      <th>Health Care</th>\n",
       "      <th>Insurance</th>\n",
       "      <th>Other_industries</th>\n",
       "    </tr>\n",
       "  </thead>\n",
       "  <tbody>\n",
       "    <tr>\n",
       "      <th>0</th>\n",
       "      <td>0</td>\n",
       "      <td>Data Engineer</td>\n",
       "      <td>https://www.indeed.com/rc/clk?jk=5a2a43234c789...</td>\n",
       "      <td>80001-99999</td>\n",
       "      <td>data_scientist</td>\n",
       "      <td>['Microsoft SQL Server', 'Technical Writing', ...</td>\n",
       "      <td>6</td>\n",
       "      <td>Colorado Community Managed Care Network</td>\n",
       "      <td>NaN</td>\n",
       "      <td>NaN</td>\n",
       "      <td>...</td>\n",
       "      <td>0</td>\n",
       "      <td>0</td>\n",
       "      <td>0</td>\n",
       "      <td>0</td>\n",
       "      <td>0</td>\n",
       "      <td>0</td>\n",
       "      <td>0</td>\n",
       "      <td>0</td>\n",
       "      <td>0</td>\n",
       "      <td>0</td>\n",
       "    </tr>\n",
       "    <tr>\n",
       "      <th>1</th>\n",
       "      <td>1</td>\n",
       "      <td>Data Scientist</td>\n",
       "      <td>https://www.indeed.com/rc/clk?jk=df00df326efa1...</td>\n",
       "      <td>&gt;160000</td>\n",
       "      <td>data_scientist</td>\n",
       "      <td>['TensorFlow', 'Machine Learning', 'Hadoop', '...</td>\n",
       "      <td>11</td>\n",
       "      <td>Cisco Systems</td>\n",
       "      <td>4251.0</td>\n",
       "      <td>4.1</td>\n",
       "      <td>...</td>\n",
       "      <td>0</td>\n",
       "      <td>0</td>\n",
       "      <td>0</td>\n",
       "      <td>0</td>\n",
       "      <td>0</td>\n",
       "      <td>1</td>\n",
       "      <td>0</td>\n",
       "      <td>0</td>\n",
       "      <td>0</td>\n",
       "      <td>0</td>\n",
       "    </tr>\n",
       "    <tr>\n",
       "      <th>2</th>\n",
       "      <td>2</td>\n",
       "      <td>Data Scientist</td>\n",
       "      <td>https://www.indeed.com/rc/clk?jk=fbb4b61d6a578...</td>\n",
       "      <td>140000-159999</td>\n",
       "      <td>data_scientist</td>\n",
       "      <td>['TensorFlow', 'Machine Learning', 'Hadoop', '...</td>\n",
       "      <td>11</td>\n",
       "      <td>Cisco Systems</td>\n",
       "      <td>4251.0</td>\n",
       "      <td>4.1</td>\n",
       "      <td>...</td>\n",
       "      <td>0</td>\n",
       "      <td>0</td>\n",
       "      <td>0</td>\n",
       "      <td>0</td>\n",
       "      <td>0</td>\n",
       "      <td>1</td>\n",
       "      <td>0</td>\n",
       "      <td>0</td>\n",
       "      <td>0</td>\n",
       "      <td>0</td>\n",
       "    </tr>\n",
       "    <tr>\n",
       "      <th>3</th>\n",
       "      <td>3</td>\n",
       "      <td>Data Scientist</td>\n",
       "      <td>https://www.indeed.com/rc/clk?jk=8b80cf0fbff8c...</td>\n",
       "      <td>&gt;160000</td>\n",
       "      <td>data_scientist</td>\n",
       "      <td>['TensorFlow', 'Machine Learning', 'Hadoop', '...</td>\n",
       "      <td>11</td>\n",
       "      <td>Cisco Systems</td>\n",
       "      <td>4251.0</td>\n",
       "      <td>4.1</td>\n",
       "      <td>...</td>\n",
       "      <td>0</td>\n",
       "      <td>0</td>\n",
       "      <td>0</td>\n",
       "      <td>0</td>\n",
       "      <td>0</td>\n",
       "      <td>1</td>\n",
       "      <td>0</td>\n",
       "      <td>0</td>\n",
       "      <td>0</td>\n",
       "      <td>0</td>\n",
       "    </tr>\n",
       "    <tr>\n",
       "      <th>4</th>\n",
       "      <td>4</td>\n",
       "      <td>Data Engineer</td>\n",
       "      <td>https://www.indeed.com/rc/clk?jk=051578f616806...</td>\n",
       "      <td>100000-119999</td>\n",
       "      <td>data_scientist</td>\n",
       "      <td>['TS/SCI Clearance', 'Signal Processing', 'Mic...</td>\n",
       "      <td>3</td>\n",
       "      <td>DCS Corp</td>\n",
       "      <td>46.0</td>\n",
       "      <td>4.5</td>\n",
       "      <td>...</td>\n",
       "      <td>0</td>\n",
       "      <td>0</td>\n",
       "      <td>0</td>\n",
       "      <td>1</td>\n",
       "      <td>0</td>\n",
       "      <td>0</td>\n",
       "      <td>0</td>\n",
       "      <td>0</td>\n",
       "      <td>0</td>\n",
       "      <td>1</td>\n",
       "    </tr>\n",
       "  </tbody>\n",
       "</table>\n",
       "<p>5 rows × 43 columns</p>\n",
       "</div>"
      ],
      "text/plain": [
       "   id       Job_Title                                               Link  \\\n",
       "0   0   Data Engineer  https://www.indeed.com/rc/clk?jk=5a2a43234c789...   \n",
       "1   1  Data Scientist  https://www.indeed.com/rc/clk?jk=df00df326efa1...   \n",
       "2   2  Data Scientist  https://www.indeed.com/rc/clk?jk=fbb4b61d6a578...   \n",
       "3   3  Data Scientist  https://www.indeed.com/rc/clk?jk=8b80cf0fbff8c...   \n",
       "4   4   Data Engineer  https://www.indeed.com/rc/clk?jk=051578f616806...   \n",
       "\n",
       "  Queried_Salary        Job_Type  \\\n",
       "0    80001-99999  data_scientist   \n",
       "1        >160000  data_scientist   \n",
       "2  140000-159999  data_scientist   \n",
       "3        >160000  data_scientist   \n",
       "4  100000-119999  data_scientist   \n",
       "\n",
       "                                               Skill  No_of_Skills  \\\n",
       "0  ['Microsoft SQL Server', 'Technical Writing', ...             6   \n",
       "1  ['TensorFlow', 'Machine Learning', 'Hadoop', '...            11   \n",
       "2  ['TensorFlow', 'Machine Learning', 'Hadoop', '...            11   \n",
       "3  ['TensorFlow', 'Machine Learning', 'Hadoop', '...            11   \n",
       "4  ['TS/SCI Clearance', 'Signal Processing', 'Mic...             3   \n",
       "\n",
       "                                   Company  No_of_Reviews  No_of_Stars  ...  \\\n",
       "0  Colorado Community Managed Care Network            NaN          NaN  ...   \n",
       "1                            Cisco Systems         4251.0          4.1  ...   \n",
       "2                            Cisco Systems         4251.0          4.1  ...   \n",
       "3                            Cisco Systems         4251.0          4.1  ...   \n",
       "4                                 DCS Corp           46.0          4.5  ...   \n",
       "\n",
       "   MD DC NC Other_states Consulting and Business Services  \\\n",
       "0   0  0  0            0                                0   \n",
       "1   0  0  0            0                                0   \n",
       "2   0  0  0            0                                0   \n",
       "3   0  0  0            0                                0   \n",
       "4   0  0  0            1                                0   \n",
       "\n",
       "  Internet and Software  Banks and Financial Services  Health Care  Insurance  \\\n",
       "0                     0                             0            0          0   \n",
       "1                     1                             0            0          0   \n",
       "2                     1                             0            0          0   \n",
       "3                     1                             0            0          0   \n",
       "4                     0                             0            0          0   \n",
       "\n",
       "   Other_industries  \n",
       "0                 0  \n",
       "1                 0  \n",
       "2                 0  \n",
       "3                 0  \n",
       "4                 1  \n",
       "\n",
       "[5 rows x 43 columns]"
      ]
     },
     "execution_count": 19,
     "metadata": {},
     "output_type": "execute_result"
    }
   ],
   "source": [
    "df = pd.read_csv('./resources/01_indeed_job_dataset.csv')\n",
    "df.head()"
   ]
  },
  {
   "cell_type": "code",
   "execution_count": 20,
   "metadata": {},
   "outputs": [
    {
     "data": {
      "text/html": [
       "<div>\n",
       "<style scoped>\n",
       "    .dataframe tbody tr th:only-of-type {\n",
       "        vertical-align: middle;\n",
       "    }\n",
       "\n",
       "    .dataframe tbody tr th {\n",
       "        vertical-align: top;\n",
       "    }\n",
       "\n",
       "    .dataframe thead th {\n",
       "        text-align: right;\n",
       "    }\n",
       "</style>\n",
       "<table border=\"1\" class=\"dataframe\">\n",
       "  <thead>\n",
       "    <tr style=\"text-align: right;\">\n",
       "      <th></th>\n",
       "      <th>Job_Type</th>\n",
       "      <th>Queried_Salary</th>\n",
       "    </tr>\n",
       "  </thead>\n",
       "  <tbody>\n",
       "    <tr>\n",
       "      <th>0</th>\n",
       "      <td>data_scientist</td>\n",
       "      <td>80001-99999</td>\n",
       "    </tr>\n",
       "    <tr>\n",
       "      <th>1</th>\n",
       "      <td>data_scientist</td>\n",
       "      <td>&gt;160000</td>\n",
       "    </tr>\n",
       "    <tr>\n",
       "      <th>2</th>\n",
       "      <td>data_scientist</td>\n",
       "      <td>140000-159999</td>\n",
       "    </tr>\n",
       "    <tr>\n",
       "      <th>3</th>\n",
       "      <td>data_scientist</td>\n",
       "      <td>&gt;160000</td>\n",
       "    </tr>\n",
       "    <tr>\n",
       "      <th>4</th>\n",
       "      <td>data_scientist</td>\n",
       "      <td>100000-119999</td>\n",
       "    </tr>\n",
       "  </tbody>\n",
       "</table>\n",
       "</div>"
      ],
      "text/plain": [
       "         Job_Type Queried_Salary\n",
       "0  data_scientist    80001-99999\n",
       "1  data_scientist        >160000\n",
       "2  data_scientist  140000-159999\n",
       "3  data_scientist        >160000\n",
       "4  data_scientist  100000-119999"
      ]
     },
     "execution_count": 20,
     "metadata": {},
     "output_type": "execute_result"
    }
   ],
   "source": [
    "# Group by Salary\n",
    "by_Salary_df = indeed_Jobtype_df.loc[:, [\"Job_Type\",\"Queried_Salary\"]]\n",
    "by_Salary_df.head()"
   ]
  },
  {
   "cell_type": "code",
   "execution_count": 21,
   "metadata": {},
   "outputs": [
    {
     "data": {
      "text/plain": [
       "100000-119999    1394\n",
       "120000-139999    1292\n",
       "80001-99999       953\n",
       "140000-159999     873\n",
       "<80000            788\n",
       ">160000           415\n",
       "Name: Queried_Salary, dtype: int64"
      ]
     },
     "execution_count": 21,
     "metadata": {},
     "output_type": "execute_result"
    }
   ],
   "source": [
    "Job_salary_df = by_Salary_df[\"Queried_Salary\"].value_counts()\n",
    "Job_salary_df"
   ]
  },
  {
   "cell_type": "code",
   "execution_count": 22,
   "metadata": {},
   "outputs": [
    {
     "data": {
      "text/plain": [
       "Job_Type        Queried_Salary\n",
       "data_analyst    100000-119999     301\n",
       "                120000-139999     501\n",
       "                140000-159999     401\n",
       "                80001-99999       195\n",
       "                <80000            201\n",
       "                >160000           194\n",
       "data_engineer   100000-119999     274\n",
       "                120000-139999     337\n",
       "                140000-159999     308\n",
       "                80001-99999       181\n",
       "                <80000            118\n",
       "                >160000           161\n",
       "data_scientist  100000-119999     819\n",
       "                120000-139999     454\n",
       "                140000-159999     164\n",
       "                80001-99999       577\n",
       "                <80000            469\n",
       "                >160000            60\n",
       "Name: Job_Type, dtype: int64"
      ]
     },
     "execution_count": 22,
     "metadata": {},
     "output_type": "execute_result"
    }
   ],
   "source": [
    "grouped_df = by_Salary_df.groupby(['Job_Type','Queried_Salary'])['Job_Type']\n",
    "avg_job_df = grouped_df.count()\n",
    "avg_job_df"
   ]
  },
  {
   "cell_type": "code",
   "execution_count": 23,
   "metadata": {},
   "outputs": [],
   "source": [
    "# Salary Mean\n",
    "Salary_mean_axis = np.array([\"$65000\", \"$90000\", \"$110000\", \"$130000\", \"$150000\", \"$170000\"])\n",
    "data_analyst_axis = np.array([201, 195, 301, 501, 401, 194])\n",
    "data_engineer_axis = np.array([118, 181, 274, 337, 308, 161])\n",
    "data_scientist_axis = np.array([469, 577, 819, 454, 164, 60])"
   ]
  },
  {
   "cell_type": "code",
   "execution_count": 24,
   "metadata": {},
   "outputs": [
    {
     "data": {
      "image/png": "[encoded data removed]",
      "text/plain": [
       "<Figure size 720x504 with 1 Axes>"
      ]
     },
     "metadata": {
      "needs_background": "light"
     },
     "output_type": "display_data"
    },
    {
     "data": {
      "text/plain": [
       "<Figure size 432x288 with 0 Axes>"
      ]
     },
     "metadata": {},
     "output_type": "display_data"
    }
   ],
   "source": [
    "fig, ax = plt.subplots(figsize=(10,7))\n",
    "plt.xlabel(\"Salary Scale\")\n",
    "plt.ylabel(\"Open Position\")\n",
    "DangerDrop, = plt.plot(Salary_mean_axis, data_analyst_axis , \n",
    "                       color='red', label=\"Median Salary data_analyst\", marker='d')\n",
    "RailGun, = plt.plot(Salary_mean_axis, data_engineer_axis , \n",
    "                    color='green', label=\"Median Salary data_engineer\", marker='^')\n",
    "RailGun, = plt.plot(Salary_mean_axis, data_scientist_axis , \n",
    "                    color='blue', label=\"Median Salary data_scientist\", marker='s')\n",
    "plt.legend(loc=\"upper right\")\n",
    "plt.savefig(\"Output & Graph/Salary mean.jpg\")\n",
    "plt.grid()\n",
    "plt.show()\n",
    "plt.tight_layout()"
   ]
  },
  {
   "cell_type": "code",
   "execution_count": 25,
   "metadata": {},
   "outputs": [
    {
     "data": {
      "text/html": [
       "<div>\n",
       "<style scoped>\n",
       "    .dataframe tbody tr th:only-of-type {\n",
       "        vertical-align: middle;\n",
       "    }\n",
       "\n",
       "    .dataframe tbody tr th {\n",
       "        vertical-align: top;\n",
       "    }\n",
       "\n",
       "    .dataframe thead th {\n",
       "        text-align: right;\n",
       "    }\n",
       "</style>\n",
       "<table border=\"1\" class=\"dataframe\">\n",
       "  <thead>\n",
       "    <tr style=\"text-align: right;\">\n",
       "      <th></th>\n",
       "      <th>Total Positions Open</th>\n",
       "    </tr>\n",
       "  </thead>\n",
       "  <tbody>\n",
       "    <tr>\n",
       "      <th>0</th>\n",
       "      <td>5715</td>\n",
       "    </tr>\n",
       "  </tbody>\n",
       "</table>\n",
       "</div>"
      ],
      "text/plain": [
       "   Total Positions Open\n",
       "0                  5715"
      ]
     },
     "execution_count": 25,
     "metadata": {},
     "output_type": "execute_result"
    }
   ],
   "source": [
    "#TTest\n",
    "\n",
    "# Total Number of Jobs Positions Availables\n",
    "Tot_Jobs = pd.DataFrame({\"Total Positions Open\":[len(indeed_data_df['id'].unique())]})\n",
    "Tot_Jobs"
   ]
  },
  {
   "cell_type": "code",
   "execution_count": 26,
   "metadata": {},
   "outputs": [
    {
     "data": {
      "text/plain": [
       "0    5715\n",
       "Name: Total Positions Open, dtype: int64"
      ]
     },
     "execution_count": 26,
     "metadata": {},
     "output_type": "execute_result"
    }
   ],
   "source": [
    "Tot_Jobs[\"Total Positions Open\"]\n"
   ]
  },
  {
   "cell_type": "code",
   "execution_count": 27,
   "metadata": {},
   "outputs": [],
   "source": [
    "def gendata(loc=0):\n",
    "    population = stats.norm.rvs(size=Tot_Jobs[\"Total Positions Open\"])\n",
    "    sample = stats.norm.rvs(loc=loc, size=300)\n",
    "\n",
    "    # Scatter Plot of Data\n",
    "    plt.subplot(2, 1, 1)\n",
    "    plt.scatter(range(len(population)), population, label=\"Open Positions\")\n",
    "    plt.scatter(range(len(sample)), sample, label=\"Sample\")\n",
    "    plt.legend()\n",
    "\n",
    "    # Histogram Plot of Data\n",
    "    plt.subplot(2, 1, 2)\n",
    "    plt.hist(population, 20, density=True, alpha=0.7, label=\"Open Positions\")\n",
    "    plt.hist(sample, 20, density=True, alpha=0.7, label=\"Sample\")\n",
    "    plt.axvline(population.mean(), color='k', linestyle='dashed', linewidth=1)\n",
    "    plt.axvline(sample.mean(), color='k', linestyle='dashed', linewidth=1)\n",
    "    plt.legend()  \n",
    "    \n",
    "    return population, sample"
   ]
  },
  {
   "cell_type": "code",
   "execution_count": 28,
   "metadata": {},
   "outputs": [
    {
     "data": {
      "image/png": "[encoded data removed]",
      "text/plain": [
       "<Figure size 432x288 with 2 Axes>"
      ]
     },
     "metadata": {
      "needs_background": "light"
     },
     "output_type": "display_data"
    }
   ],
   "source": [
    "# Generate some data and show the scatter plot\n",
    "population, sample = gendata()"
   ]
  },
  {
   "cell_type": "code",
   "execution_count": 29,
   "metadata": {},
   "outputs": [
    {
     "data": {
      "text/plain": [
       "Ttest_1sampResult(statistic=1.5353639154016905, pvalue=0.12575192467623744)"
      ]
     },
     "execution_count": 29,
     "metadata": {},
     "output_type": "execute_result"
    }
   ],
   "source": [
    "stats.ttest_1samp(sample, population.mean())"
   ]
  },
  {
   "cell_type": "code",
   "execution_count": 30,
   "metadata": {},
   "outputs": [
    {
     "data": {
      "image/png": "[encoded data removed]",
      "text/plain": [
       "<Figure size 432x288 with 2 Axes>"
      ]
     },
     "metadata": {
      "needs_background": "light"
     },
     "output_type": "display_data"
    }
   ],
   "source": [
    "population, sample = gendata(loc=-2)"
   ]
  },
  {
   "cell_type": "code",
   "execution_count": 31,
   "metadata": {},
   "outputs": [
    {
     "data": {
      "text/plain": [
       "Ttest_1sampResult(statistic=-35.5663820255008, pvalue=1.9287316219323076e-109)"
      ]
     },
     "execution_count": 31,
     "metadata": {},
     "output_type": "execute_result"
    }
   ],
   "source": [
    "stats.ttest_1samp(sample, population.mean())"
   ]
  },
  {
   "cell_type": "code",
   "execution_count": null,
   "metadata": {},
   "outputs": [],
   "source": []
  },
  {
   "cell_type": "code",
   "execution_count": null,
   "metadata": {},
   "outputs": [],
   "source": []
  }
 ],
 "metadata": {
  "kernelspec": {
   "display_name": "Python 3",
   "language": "python",
   "name": "python3"
  },
  "language_info": {
   "codemirror_mode": {
    "name": "ipython",
    "version": 3
   },
   "file_extension": ".py",
   "mimetype": "text/x-python",
   "name": "python",
   "nbconvert_exporter": "python",
   "pygments_lexer": "ipython3",
   "version": "3.7.3"
  }
 },
 "nbformat": 4,
 "nbformat_minor": 2
}
