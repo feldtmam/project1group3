{
 "cells": [
  {
   "cell_type": "code",
   "execution_count": 1,
   "metadata": {},
   "outputs": [],
   "source": [
    "%matplotlib inline\n",
    "\n",
    "#Dependencies\n",
    "import pandas as pd\n",
    "import numpy as np\n",
    "import os\n",
    "import matplotlib.pyplot as plt\n",
    "import gmaps\n",
    "import gmaps.datasets\n",
    "import folium\n",
    "\n",
    "import warnings\n",
    "warnings.filterwarnings('ignore')"
   ]
  },
  {
   "cell_type": "code",
   "execution_count": 2,
   "metadata": {},
   "outputs": [
    {
     "data": {
      "text/html": [
       "<div>\n",
       "<style scoped>\n",
       "    .dataframe tbody tr th:only-of-type {\n",
       "        vertical-align: middle;\n",
       "    }\n",
       "\n",
       "    .dataframe tbody tr th {\n",
       "        vertical-align: top;\n",
       "    }\n",
       "\n",
       "    .dataframe thead th {\n",
       "        text-align: right;\n",
       "    }\n",
       "</style>\n",
       "<table border=\"1\" class=\"dataframe\">\n",
       "  <thead>\n",
       "    <tr style=\"text-align: right;\">\n",
       "      <th></th>\n",
       "      <th>id</th>\n",
       "      <th>Job_Title</th>\n",
       "      <th>Link</th>\n",
       "      <th>Queried_Salary</th>\n",
       "      <th>Job_Type</th>\n",
       "      <th>Skill</th>\n",
       "      <th>No_of_Skills</th>\n",
       "      <th>Company</th>\n",
       "      <th>No_of_Reviews</th>\n",
       "      <th>No_of_Stars</th>\n",
       "      <th>...</th>\n",
       "      <th>MD</th>\n",
       "      <th>DC</th>\n",
       "      <th>NC</th>\n",
       "      <th>Other_states</th>\n",
       "      <th>Consulting and Business Services</th>\n",
       "      <th>Internet and Software</th>\n",
       "      <th>Banks and Financial Services</th>\n",
       "      <th>Health Care</th>\n",
       "      <th>Insurance</th>\n",
       "      <th>Other_industries</th>\n",
       "    </tr>\n",
       "  </thead>\n",
       "  <tbody>\n",
       "    <tr>\n",
       "      <th>0</th>\n",
       "      <td>0</td>\n",
       "      <td>Data Engineer</td>\n",
       "      <td>https://www.indeed.com/rc/clk?jk=5a2a43234c789...</td>\n",
       "      <td>80000-99999</td>\n",
       "      <td>data_scientist</td>\n",
       "      <td>['Microsoft SQL Server', 'Technical Writing', ...</td>\n",
       "      <td>6</td>\n",
       "      <td>Colorado Community Managed Care Network</td>\n",
       "      <td>NaN</td>\n",
       "      <td>NaN</td>\n",
       "      <td>...</td>\n",
       "      <td>0</td>\n",
       "      <td>0</td>\n",
       "      <td>0</td>\n",
       "      <td>0</td>\n",
       "      <td>0</td>\n",
       "      <td>0</td>\n",
       "      <td>0</td>\n",
       "      <td>0</td>\n",
       "      <td>0</td>\n",
       "      <td>0</td>\n",
       "    </tr>\n",
       "    <tr>\n",
       "      <th>1</th>\n",
       "      <td>1</td>\n",
       "      <td>Data Scientist</td>\n",
       "      <td>https://www.indeed.com/rc/clk?jk=df00df326efa1...</td>\n",
       "      <td>&gt;160000</td>\n",
       "      <td>data_scientist</td>\n",
       "      <td>['TensorFlow', 'Machine Learning', 'Hadoop', '...</td>\n",
       "      <td>11</td>\n",
       "      <td>Cisco Systems</td>\n",
       "      <td>4251.0</td>\n",
       "      <td>4.1</td>\n",
       "      <td>...</td>\n",
       "      <td>0</td>\n",
       "      <td>0</td>\n",
       "      <td>0</td>\n",
       "      <td>0</td>\n",
       "      <td>0</td>\n",
       "      <td>1</td>\n",
       "      <td>0</td>\n",
       "      <td>0</td>\n",
       "      <td>0</td>\n",
       "      <td>0</td>\n",
       "    </tr>\n",
       "    <tr>\n",
       "      <th>2</th>\n",
       "      <td>2</td>\n",
       "      <td>Data Scientist</td>\n",
       "      <td>https://www.indeed.com/rc/clk?jk=fbb4b61d6a578...</td>\n",
       "      <td>140000-159999</td>\n",
       "      <td>data_scientist</td>\n",
       "      <td>['TensorFlow', 'Machine Learning', 'Hadoop', '...</td>\n",
       "      <td>11</td>\n",
       "      <td>Cisco Systems</td>\n",
       "      <td>4251.0</td>\n",
       "      <td>4.1</td>\n",
       "      <td>...</td>\n",
       "      <td>0</td>\n",
       "      <td>0</td>\n",
       "      <td>0</td>\n",
       "      <td>0</td>\n",
       "      <td>0</td>\n",
       "      <td>1</td>\n",
       "      <td>0</td>\n",
       "      <td>0</td>\n",
       "      <td>0</td>\n",
       "      <td>0</td>\n",
       "    </tr>\n",
       "    <tr>\n",
       "      <th>3</th>\n",
       "      <td>3</td>\n",
       "      <td>Data Scientist</td>\n",
       "      <td>https://www.indeed.com/rc/clk?jk=8b80cf0fbff8c...</td>\n",
       "      <td>&gt;160000</td>\n",
       "      <td>data_scientist</td>\n",
       "      <td>['TensorFlow', 'Machine Learning', 'Hadoop', '...</td>\n",
       "      <td>11</td>\n",
       "      <td>Cisco Systems</td>\n",
       "      <td>4251.0</td>\n",
       "      <td>4.1</td>\n",
       "      <td>...</td>\n",
       "      <td>0</td>\n",
       "      <td>0</td>\n",
       "      <td>0</td>\n",
       "      <td>0</td>\n",
       "      <td>0</td>\n",
       "      <td>1</td>\n",
       "      <td>0</td>\n",
       "      <td>0</td>\n",
       "      <td>0</td>\n",
       "      <td>0</td>\n",
       "    </tr>\n",
       "    <tr>\n",
       "      <th>4</th>\n",
       "      <td>4</td>\n",
       "      <td>Data Engineer</td>\n",
       "      <td>https://www.indeed.com/rc/clk?jk=051578f616806...</td>\n",
       "      <td>100000-119999</td>\n",
       "      <td>data_scientist</td>\n",
       "      <td>['TS/SCI Clearance', 'Signal Processing', 'Mic...</td>\n",
       "      <td>3</td>\n",
       "      <td>DCS Corp</td>\n",
       "      <td>46.0</td>\n",
       "      <td>4.5</td>\n",
       "      <td>...</td>\n",
       "      <td>0</td>\n",
       "      <td>0</td>\n",
       "      <td>0</td>\n",
       "      <td>1</td>\n",
       "      <td>0</td>\n",
       "      <td>0</td>\n",
       "      <td>0</td>\n",
       "      <td>0</td>\n",
       "      <td>0</td>\n",
       "      <td>1</td>\n",
       "    </tr>\n",
       "  </tbody>\n",
       "</table>\n",
       "<p>5 rows × 43 columns</p>\n",
       "</div>"
      ],
      "text/plain": [
       "   id       Job_Title                                               Link  \\\n",
       "0   0   Data Engineer  https://www.indeed.com/rc/clk?jk=5a2a43234c789...   \n",
       "1   1  Data Scientist  https://www.indeed.com/rc/clk?jk=df00df326efa1...   \n",
       "2   2  Data Scientist  https://www.indeed.com/rc/clk?jk=fbb4b61d6a578...   \n",
       "3   3  Data Scientist  https://www.indeed.com/rc/clk?jk=8b80cf0fbff8c...   \n",
       "4   4   Data Engineer  https://www.indeed.com/rc/clk?jk=051578f616806...   \n",
       "\n",
       "  Queried_Salary        Job_Type  \\\n",
       "0    80000-99999  data_scientist   \n",
       "1        >160000  data_scientist   \n",
       "2  140000-159999  data_scientist   \n",
       "3        >160000  data_scientist   \n",
       "4  100000-119999  data_scientist   \n",
       "\n",
       "                                               Skill  No_of_Skills  \\\n",
       "0  ['Microsoft SQL Server', 'Technical Writing', ...             6   \n",
       "1  ['TensorFlow', 'Machine Learning', 'Hadoop', '...            11   \n",
       "2  ['TensorFlow', 'Machine Learning', 'Hadoop', '...            11   \n",
       "3  ['TensorFlow', 'Machine Learning', 'Hadoop', '...            11   \n",
       "4  ['TS/SCI Clearance', 'Signal Processing', 'Mic...             3   \n",
       "\n",
       "                                   Company  No_of_Reviews  No_of_Stars  ...  \\\n",
       "0  Colorado Community Managed Care Network            NaN          NaN  ...   \n",
       "1                            Cisco Systems         4251.0          4.1  ...   \n",
       "2                            Cisco Systems         4251.0          4.1  ...   \n",
       "3                            Cisco Systems         4251.0          4.1  ...   \n",
       "4                                 DCS Corp           46.0          4.5  ...   \n",
       "\n",
       "   MD DC NC Other_states Consulting and Business Services  \\\n",
       "0   0  0  0            0                                0   \n",
       "1   0  0  0            0                                0   \n",
       "2   0  0  0            0                                0   \n",
       "3   0  0  0            0                                0   \n",
       "4   0  0  0            1                                0   \n",
       "\n",
       "  Internet and Software  Banks and Financial Services  Health Care  Insurance  \\\n",
       "0                     0                             0            0          0   \n",
       "1                     1                             0            0          0   \n",
       "2                     1                             0            0          0   \n",
       "3                     1                             0            0          0   \n",
       "4                     0                             0            0          0   \n",
       "\n",
       "   Other_industries  \n",
       "0                 0  \n",
       "1                 0  \n",
       "2                 0  \n",
       "3                 0  \n",
       "4                 1  \n",
       "\n",
       "[5 rows x 43 columns]"
      ]
     },
     "execution_count": 2,
     "metadata": {},
     "output_type": "execute_result"
    }
   ],
   "source": [
    "indeed_data = pd.read_csv('./resources/01_indeed_job_dataset.csv')\n",
    "indeed_data.head()"
   ]
  },
  {
   "cell_type": "code",
   "execution_count": 3,
   "metadata": {},
   "outputs": [
    {
     "data": {
      "text/html": [
       "<div>\n",
       "<style scoped>\n",
       "    .dataframe tbody tr th:only-of-type {\n",
       "        vertical-align: middle;\n",
       "    }\n",
       "\n",
       "    .dataframe tbody tr th {\n",
       "        vertical-align: top;\n",
       "    }\n",
       "\n",
       "    .dataframe thead th {\n",
       "        text-align: right;\n",
       "    }\n",
       "</style>\n",
       "<table border=\"1\" class=\"dataframe\">\n",
       "  <thead>\n",
       "    <tr style=\"text-align: right;\">\n",
       "      <th></th>\n",
       "      <th>id</th>\n",
       "      <th>Job_Type</th>\n",
       "      <th>Job_Title</th>\n",
       "      <th>Location</th>\n",
       "      <th>Company</th>\n",
       "    </tr>\n",
       "  </thead>\n",
       "  <tbody>\n",
       "    <tr>\n",
       "      <th>0</th>\n",
       "      <td>0</td>\n",
       "      <td>data_scientist</td>\n",
       "      <td>Data Engineer</td>\n",
       "      <td>NaN</td>\n",
       "      <td>Colorado Community Managed Care Network</td>\n",
       "    </tr>\n",
       "    <tr>\n",
       "      <th>1</th>\n",
       "      <td>1</td>\n",
       "      <td>data_scientist</td>\n",
       "      <td>Data Scientist</td>\n",
       "      <td>CA</td>\n",
       "      <td>Cisco Systems</td>\n",
       "    </tr>\n",
       "    <tr>\n",
       "      <th>2</th>\n",
       "      <td>2</td>\n",
       "      <td>data_scientist</td>\n",
       "      <td>Data Scientist</td>\n",
       "      <td>CA</td>\n",
       "      <td>Cisco Systems</td>\n",
       "    </tr>\n",
       "    <tr>\n",
       "      <th>3</th>\n",
       "      <td>3</td>\n",
       "      <td>data_scientist</td>\n",
       "      <td>Data Scientist</td>\n",
       "      <td>CA</td>\n",
       "      <td>Cisco Systems</td>\n",
       "    </tr>\n",
       "    <tr>\n",
       "      <th>4</th>\n",
       "      <td>4</td>\n",
       "      <td>data_scientist</td>\n",
       "      <td>Data Engineer</td>\n",
       "      <td>FL</td>\n",
       "      <td>DCS Corp</td>\n",
       "    </tr>\n",
       "  </tbody>\n",
       "</table>\n",
       "</div>"
      ],
      "text/plain": [
       "   id        Job_Type       Job_Title Location  \\\n",
       "0   0  data_scientist   Data Engineer      NaN   \n",
       "1   1  data_scientist  Data Scientist       CA   \n",
       "2   2  data_scientist  Data Scientist       CA   \n",
       "3   3  data_scientist  Data Scientist       CA   \n",
       "4   4  data_scientist   Data Engineer       FL   \n",
       "\n",
       "                                   Company  \n",
       "0  Colorado Community Managed Care Network  \n",
       "1                            Cisco Systems  \n",
       "2                            Cisco Systems  \n",
       "3                            Cisco Systems  \n",
       "4                                 DCS Corp  "
      ]
     },
     "execution_count": 3,
     "metadata": {},
     "output_type": "execute_result"
    }
   ],
   "source": [
    "indeed_Jobtype_df = indeed_data[['id','Job_Type','Job_Title','Location','Company']]\n",
    "indeed_Jobtype_df.head()"
   ]
  },
  {
   "cell_type": "code",
   "execution_count": 4,
   "metadata": {},
   "outputs": [
    {
     "data": {
      "text/html": [
       "<div>\n",
       "<style scoped>\n",
       "    .dataframe tbody tr th:only-of-type {\n",
       "        vertical-align: middle;\n",
       "    }\n",
       "\n",
       "    .dataframe tbody tr th {\n",
       "        vertical-align: top;\n",
       "    }\n",
       "\n",
       "    .dataframe thead th {\n",
       "        text-align: right;\n",
       "    }\n",
       "</style>\n",
       "<table border=\"1\" class=\"dataframe\">\n",
       "  <thead>\n",
       "    <tr style=\"text-align: right;\">\n",
       "      <th></th>\n",
       "      <th>Total Positions Open</th>\n",
       "    </tr>\n",
       "  </thead>\n",
       "  <tbody>\n",
       "    <tr>\n",
       "      <th>0</th>\n",
       "      <td>5715</td>\n",
       "    </tr>\n",
       "  </tbody>\n",
       "</table>\n",
       "</div>"
      ],
      "text/plain": [
       "   Total Positions Open\n",
       "0                  5715"
      ]
     },
     "execution_count": 4,
     "metadata": {},
     "output_type": "execute_result"
    }
   ],
   "source": [
    "# Total Number of Jobs Positions Availables\n",
    "Tot_Jobs = pd.DataFrame({\"Total Positions Open\":[len(indeed_data['id'].unique())]})\n",
    "Tot_Jobs"
   ]
  },
  {
   "cell_type": "code",
   "execution_count": 5,
   "metadata": {},
   "outputs": [
    {
     "data": {
      "text/plain": [
       "data_scientist    2543\n",
       "data_analyst      1793\n",
       "data_engineer     1379\n",
       "Name: Job_Type, dtype: int64"
      ]
     },
     "execution_count": 5,
     "metadata": {},
     "output_type": "execute_result"
    }
   ],
   "source": [
    "Job_counts = indeed_Jobtype_df[\"Job_Type\"].value_counts()\n",
    "Job_counts"
   ]
  },
  {
   "cell_type": "code",
   "execution_count": 6,
   "metadata": {},
   "outputs": [
    {
     "data": {
      "text/plain": [
       "data_scientist    44.50%\n",
       "data_analyst      31.37%\n",
       "data_engineer     24.13%\n",
       "Name: Job_Type, dtype: object"
      ]
     },
     "execution_count": 6,
     "metadata": {},
     "output_type": "execute_result"
    }
   ],
   "source": [
    "#Group the dataset by Job Type and State\n",
    "total_jobs = len(indeed_Jobtype_df)\n",
    "\n",
    "Job_perc = Job_counts/total_jobs\n",
    "Job_perc = Job_perc.map(lambda n: '{:.2%}'.format(n))\n",
    "Job_perc"
   ]
  },
  {
   "cell_type": "code",
   "execution_count": 7,
   "metadata": {},
   "outputs": [
    {
     "data": {
      "text/plain": [
       "Text(0, 0.5, 'Job Positions Open by Job Type')"
      ]
     },
     "execution_count": 7,
     "metadata": {},
     "output_type": "execute_result"
    },
    {
     "data": {
      "image/png": "[encoded data removed]",
      "text/plain": [
       "<Figure size 432x288 with 1 Axes>"
      ]
     },
     "metadata": {
      "needs_background": "light"
     },
     "output_type": "display_data"
    }
   ],
   "source": [
    "counts = [2469, 1816, 943, 349, 61]\n",
    "x_axis = np.arange(len(counts))\n",
    "\n",
    "plt.bar(x_axis, counts, color='b', align=\"center\")\n",
    "plt.ylim(0, max(counts)+ 1500)\n",
    "\n",
    "tick_locations = [value for value in x_axis]\n",
    "plt.xlim(-0.75, len(x_axis) -0.25)\n",
    "plt.ylim(0, max(counts)+0.5)\n",
    "\n",
    "tick_locations = [value for value in x_axis]\n",
    "plt.xticks(tick_locations, [\"data_scientist\", \"data_analyst\", \"data_engineer\", \"senior_data_engineer\", \n",
    "           \"machine_learning_architect\",\"principal_data_engineer\", \"master_data_engineer\"])\n",
    "plt.title(\"Types of Data Analisys Jobs\")\n",
    "plt.ylabel(\"Job Positions Open by Job Type\")\n"
   ]
  },
  {
   "cell_type": "code",
   "execution_count": 8,
   "metadata": {},
   "outputs": [
    {
     "data": {
      "image/png": "[encoded data removed]",
      "text/plain": [
       "<Figure size 432x216 with 1 Axes>"
      ]
     },
     "metadata": {},
     "output_type": "display_data"
    }
   ],
   "source": [
    "fig, ax = plt.subplots(figsize=(6, 3), subplot_kw=dict(aspect=\"equal\"))\n",
    "\n",
    "jobs = [\"2469 data_scientist\", \"1816 data_analyst\", \"943 data_engineer\", \"349 senior_data_engineer\", \n",
    "        \"61 machine_learning_architect\",\"43 principal_data_engineer\", \"34 master_data_engineer\"]\n",
    "\n",
    "data = [float(x.split()[0]) for x in jobs]\n",
    "counts = [x.split()[-1] for x in jobs]\n",
    "\n",
    "\n",
    "def func(pct, allvals):\n",
    "    absolute = int(pct/100.*np.sum(allvals))\n",
    "    return \"{:.1f}%\\n({:d} g)\".format(pct, absolute)\n",
    "\n",
    "\n",
    "wedges, texts, autotexts = ax.pie(data, autopct=lambda pct: func(pct, data),\n",
    "                                  textprops=dict(color=\"w\"))\n",
    "\n",
    "ax.legend(wedges, counts,\n",
    "          title=\"Ingredients\",\n",
    "          loc=\"center left\",\n",
    "          bbox_to_anchor=(1, 0, 0.5, 1))\n",
    "\n",
    "plt.setp(autotexts, size=8, weight=\"bold\")\n",
    "\n",
    "ax.set_title(\"Types of Data Analisys Jobs 2018\")\n",
    "\n",
    "plt.show()"
   ]
  },
  {
   "cell_type": "code",
   "execution_count": 9,
   "metadata": {},
   "outputs": [
    {
     "data": {
      "image/png": "[encoded data removed]",
      "text/plain": [
       "<Figure size 432x216 with 1 Axes>"
      ]
     },
     "metadata": {},
     "output_type": "display_data"
    }
   ],
   "source": [
    "fig, ax = plt.subplots(figsize=(6, 3), subplot_kw=dict(aspect=\"equal\"))\n",
    "\n",
    "\n",
    "\n",
    "counts = [2469, 1816, 943, 349, 61, 43,34]\n",
    "jobs = [\"data_scientist\", \"data_analyst\", \"data_engineer\", \"senior_data_engineer\", \n",
    "        \"machine_learning_architect\",\"principal_data_engineer\", \"master_data_engineer\"]\n",
    "\n",
    "\n",
    "wedges, texts = ax.pie(counts, wedgeprops=dict(width=0.5), startangle=-40)\n",
    "\n",
    "bbox_props = dict(boxstyle=\"square,pad=0.3\", fc=\"w\", ec=\"k\", lw=0.72)\n",
    "kw = dict(arrowprops=dict(arrowstyle=\"-\"),\n",
    "          bbox=bbox_props, zorder=0, va=\"center\")\n",
    "\n",
    "for i, p in enumerate(wedges):\n",
    "    ang = (p.theta2 - p.theta1)/2. + p.theta1\n",
    "    y = np.sin(np.deg2rad(ang))\n",
    "    x = np.cos(np.deg2rad(ang))\n",
    "    horizontalalignment = {-1: \"right\", 1: \"left\"}[int(np.sign(x))]\n",
    "    connectionstyle = \"angle,angleA=0,angleB={}\".format(ang)\n",
    "    kw[\"arrowprops\"].update({\"connectionstyle\": connectionstyle})\n",
    "    ax.annotate(jobs[i], xy=(x, y), xytext=(1.35*np.sign(x), 1.4*y),\n",
    "                horizontalalignment=horizontalalignment, **kw)\n",
    "\n",
    "ax.set_title(\"Types of Data Analisys Jobs 2018\")\n",
    "\n",
    "plt.show()"
   ]
  },
  {
   "cell_type": "code",
   "execution_count": 10,
   "metadata": {},
   "outputs": [
    {
     "name": "stdout",
     "output_type": "stream",
     "text": [
      "['data_scientist', 'data_analyst', 'data_engineer', 'senior_data_engineer', 'machine_learning_architect', 'principal_data_engineer', 'master_data_engineer']\n",
      "[2469, 1816, 943, 349, 61, 43, 34]\n"
     ]
    },
    {
     "data": {
      "image/png": "[encoded data removed]",
      "text/plain": [
       "<Figure size 432x288 with 1 Axes>"
      ]
     },
     "metadata": {},
     "output_type": "display_data"
    }
   ],
   "source": [
    "#create bar graph to illustrate number of Data Analysis jobs per state\n",
    "counts = [2469, 1816, 943, 349, 61, 43,34]\n",
    "jobs = [\"data_scientist\", \"data_analyst\", \"data_engineer\", \"senior_data_engineer\", \n",
    "        \"machine_learning_architect\",\"principal_data_engineer\", \"master_data_engineer\"]\n",
    "\n",
    "sizes = counts\n",
    "labels = jobs\n",
    "print(labels)\n",
    "print(sizes)\n",
    "\n",
    "colors = [\"yellow\", \"green\", \"blue\", \"orange\", \"red\",\"purple\", \"pink\"]\n",
    "explode = (0.1, 0, 0, 0, 0, 0, 0)\n",
    "plt.pie(sizes, explode=explode, labels=labels, colors=colors, autopct='%1.1f%%', shadow=True, startangle=140)\n",
    "\n",
    "plt.axis('equal')\n",
    "plt.legend()\n",
    "plt.show()"
   ]
  },
  {
   "cell_type": "code",
   "execution_count": null,
   "metadata": {},
   "outputs": [],
   "source": []
  }
 ],
 "metadata": {
  "kernelspec": {
   "display_name": "Python 3",
   "language": "python",
   "name": "python3"
  },
  "language_info": {
   "codemirror_mode": {
    "name": "ipython",
    "version": 3
   },
   "file_extension": ".py",
   "mimetype": "text/x-python",
   "name": "python",
   "nbconvert_exporter": "python",
   "pygments_lexer": "ipython3",
   "version": "3.7.3"
  }
 },
 "nbformat": 4,
 "nbformat_minor": 2
}
