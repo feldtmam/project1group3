{
 "cells": [
  {
   "cell_type": "code",
   "execution_count": null,
   "metadata": {},
   "outputs": [],
   "source": [
    "#Importing things\n",
    "import pandas as pd\n",
    "import numpy as np\n",
    "import os\n",
    "import matplotlib.pyplot as plt"
   ]
  },
  {
   "cell_type": "code",
   "execution_count": null,
   "metadata": {
    "scrolled": true
   },
   "outputs": [],
   "source": [
    "df02 = pd.read_csv('./Resources/02_data_sci_survey_2018_data.csv')\n",
    "df02.head()"
   ]
  },
  {
   "cell_type": "code",
   "execution_count": null,
   "metadata": {
    "scrolled": false
   },
   "outputs": [],
   "source": [
    "pro_frame = df02.loc[df02['For you, data analysis is...?']=='Your primary professional activity']\n",
    "pro_frame.head()"
   ]
  },
  {
   "cell_type": "code",
   "execution_count": null,
   "metadata": {
    "scrolled": true
   },
   "outputs": [],
   "source": [
    "pro_frame_now=pro_frame.rename(columns={'For you, data analysis is...?':'Type',\n",
    "                         'Python:What programming language(s) do you regularly use for data analysis, if any?':'python',\n",
    "                         'R:What programming language(s) do you regularly use for data analysis, if any?':'r',\n",
    "                         'Apache Hadoop/MapReduce:Which of the following tool(s) do you use, if any?..':'hadoop',\n",
    "                         'Tableau:Which statistics package(s) do you use to analyze and visualize..data, if any?':'tableau',\n",
    "                         'SAS:Which statistics package(s) do you use to analyze and visualize..data, if any?':'sas',\n",
    "                         'Apache Spark:Which of the following tool(s) do you use, if any?..':'spark',\n",
    "                         'Java:What programming language(s) do you regularly use for data analysis, if any?':'java'})\n",
    "\n",
    "pro_frame_now = pro_frame_now[['Type','python','r','hadoop','tableau','sas','spark','java']]\n",
    "pro_frame_now.head()"
   ]
  },
  {
   "cell_type": "code",
   "execution_count": null,
   "metadata": {},
   "outputs": [],
   "source": [
    "python_count=pro_frame_now.python.count()\n",
    "r_count=pro_frame_now.r.count()\n",
    "hadoop_count=pro_frame_now.hadoop.count()\n",
    "tableau_count=pro_frame_now.tableau.count()\n",
    "sas_count=pro_frame_now.sas.count()\n",
    "spark_count=pro_frame_now.spark.count()\n",
    "java_count=pro_frame_now.java.count()"
   ]
  },
  {
   "cell_type": "code",
   "execution_count": null,
   "metadata": {},
   "outputs": [],
   "source": [
    "fig, ax01 = plt.subplots(figsize=(12, 12))\n",
    "ax01.pie([python_count,r_count,hadoop_count,tableau_count,sas_count,spark_count,java_count],labels=['Python', 'R', 'Hadoop', 'Tableau', 'SAS', 'Spark', 'Java'], shadow=True,textprops={'fontsize':20})\n",
    "ax01.set_title(\"2018 Survey, tools actually in use\",fontsize=20)"
   ]
  },
  {
   "cell_type": "code",
   "execution_count": null,
   "metadata": {},
   "outputs": [],
   "source": [
    "fig, ax01 = plt.subplots(figsize=(12, 12))\n",
    "plt.rcParams.update({'font.size': 22})\n",
    "ax01.bar(['Python', 'R', 'Hadoop', 'Tableau', 'SAS', 'Spark', 'Java'], [python_count,r_count,hadoop_count,tableau_count,sas_count,spark_count,java_count])\n",
    "ax01.set_title(\"Tools in Use (2018, Survey)\")\n",
    "ax01.set_ylabel(\"Appearances in Data Analyst Jobs\")\n",
    "ax01.set_xlabel(\"Common Tools\")\n",
    "ax01.annotate(python_count,xy=(-.25,python_count))\n",
    "ax01.annotate(r_count,xy=(.75,r_count))\n",
    "ax01.annotate(hadoop_count,xy=(1.75,hadoop_count))\n",
    "ax01.annotate(tableau_count,xy=(2.75,tableau_count))\n",
    "ax01.annotate(sas_count,xy=(3.75,sas_count))\n",
    "ax01.annotate(spark_count,xy=(4.75,spark_count))\n",
    "ax01.annotate(java_count,xy=(5.75,java_count))\n",
    "fig.tight_layout()"
   ]
  },
  {
   "cell_type": "code",
   "execution_count": null,
   "metadata": {},
   "outputs": [],
   "source": [
    "#renaming columns, because these were just not acceptable.\n",
    "pro_frame_future=pro_frame.rename(columns={'None:Which..tool(s) do you use for data analysis, if any?':'now_tool_none',\n",
    "'RapidMiner:Which..tool(s) do you use for data analysis, if any?':'now_tool_RapidMiner',\n",
    "'KNIME:Which..tool(s) do you use for data analysis, if any?':'now_tool_KNIME',\n",
    "'Alteryx:Which..tool(s) do you use for data analysis, if any?':'now_tool_Alteryx',\n",
    "'Angoss:Which..tool(s) do you use for data analysis, if any?':'now_tool_Angoss',\n",
    "'Microsoft Azure ML:Which..tool(s) do you use for data analysis, if any?':'now_tool_Azure',\n",
    "'Dataiku:Which..tool(s) do you use for data analysis, if any?':'now_tool_Dataiku',\n",
    "'Domino Data Lab:Which..tool(s) do you use for data analysis, if any?':'now_tool_Domino',\n",
    "'Alpine Data Chorus:Which..tool(s) do you use for data analysis, if any?':'now_tool_Apine',\n",
    "'Other ... Write In::Which..tool(s) do you use for data analysis, if any?':'now_tool_other',\n",
    "'None:What programming language(s) do you regularly use for data analysis, if any?':'now_pl_none',\n",
    "'R:What programming language(s) do you regularly use for data analysis, if any?':'now_pl_r',\n",
    "'Python:What programming language(s) do you regularly use for data analysis, if any?':'now_pl_python',\n",
    "'Java:What programming language(s) do you regularly use for data analysis, if any?':'now_pl_java',\n",
    "'Scala:What programming language(s) do you regularly use for data analysis, if any?':'now_pl_scala',\n",
    "'Lua:What programming language(s) do you regularly use for data analysis, if any?':'now_pl_lua',\n",
    "'Julia:What programming language(s) do you regularly use for data analysis, if any?':'now_pl_julia',\n",
    "'Matlab/Octave:What programming language(s) do you regularly use for data analysis, if any?':'now_pl_matlab',\n",
    "'Other ... Write In::What programming language(s) do you regularly use for data analysis, if any?':'now_pl_other',\n",
    "'None:Which of the following tool(s) do you use, if any?..':'now_tool2_none',\n",
    "'Apache Spark:Which of the following tool(s) do you use, if any?..':'now_tool2_spark',\n",
    "'Apache Samza:Which of the following tool(s) do you use, if any?..':'now_tool2_samza',\n",
    "'Apache Flink:Which of the following tool(s) do you use, if any?..':'now_tool2_flink',\n",
    "'Apache Hadoop/MapReduce:Which of the following tool(s) do you use, if any?..':'now_tool2_hadoop',\n",
    "'Apache Hive:Which of the following tool(s) do you use, if any?..':'now_tool2_hive',\n",
    "'Apache Pig:Which of the following tool(s) do you use, if any?..':'now_tool2_pig',\n",
    "'Apache Tez:Which of the following tool(s) do you use, if any?..':'now_tool2_tez',\n",
    "'Apache Beam:Which of the following tool(s) do you use, if any?..':'now_tool2_beam',\n",
    "'Dask:Which of the following tool(s) do you use, if any?..':'now_tool2_dask',\n",
    "'Other ... Write In::Which of the following tool(s) do you use, if any?..':'now_tool2_other',\n",
    "'None:Do you plan to adopt / migrate to other language(s) in the next 12 months?':'future_pl_none',\n",
    "'R:Do you plan to adopt / migrate to other language(s) in the next 12 months?':'future_pl_r',\n",
    "'Python:Do you plan to adopt / migrate to other language(s) in the next 12 months?':'future_pl_python',\n",
    "'Java:Do you plan to adopt / migrate to other language(s) in the next 12 months?':'future_pl_java',\n",
    "'Scala:Do you plan to adopt / migrate to other language(s) in the next 12 months?':'future_pl_scala',\n",
    "'Lua:Do you plan to adopt / migrate to other language(s) in the next 12 months?':'future_pl_lua',\n",
    "'Julia:Do you plan to adopt / migrate to other language(s) in the next 12 months?':'future_pl_julia',\n",
    "'Matlab/Octave:Do you plan to adopt / migrate to other language(s) in the next 12 months?':'future_pl_matlab',\n",
    "'Other - Write In:Do you plan to adopt / migrate to other language(s) in the next 12 months?':'future_pl_other'\n",
    "})\n",
    "pro_frame_future = pro_frame_future[['now_tool_none','now_tool_RapidMiner','now_tool_KNIME','now_tool_Alteryx','now_tool_Angoss','now_tool_Azure','now_tool_Dataiku','now_tool_Domino','now_tool_Apine','now_tool_other','now_pl_none','now_pl_r','now_pl_python','now_pl_java','now_pl_scala','now_pl_lua','now_pl_julia','now_pl_matlab','now_pl_other','now_tool2_none','now_tool2_spark','now_tool2_samza','now_tool2_flink','now_tool2_hadoop','now_tool2_hive','now_tool2_pig','now_tool2_tez','now_tool2_beam','now_tool2_dask','now_tool2_other','future_pl_none','future_pl_r','future_pl_python','future_pl_java','future_pl_scala','future_pl_lua','future_pl_julia','future_pl_matlab','future_pl_other']]\n",
    "pro_frame_future.head(10)"
   ]
  },
  {
   "cell_type": "code",
   "execution_count": null,
   "metadata": {},
   "outputs": [],
   "source": [
    "now_tool_none=pro_frame_future.now_tool_none.count()\n",
    "now_tool_RapidMiner=pro_frame_future.now_tool_RapidMiner.count()\n",
    "now_tool_KNIME=pro_frame_future.now_tool_KNIME.count()\n",
    "now_tool_Alteryx=pro_frame_future.now_tool_Alteryx.count()\n",
    "now_tool_Angoss=pro_frame_future.now_tool_Angoss.count()\n",
    "now_tool_Azure=pro_frame_future.now_tool_Azure.count()\n",
    "now_tool_Dataiku=pro_frame_future.now_tool_Dataiku.count()\n",
    "now_tool_Domino=pro_frame_future.now_tool_Domino.count()\n",
    "now_tool_Apine=pro_frame_future.now_tool_Apine.count()\n",
    "now_tool_other=pro_frame_future.now_tool_other.count()\n",
    "now_tool2_none=pro_frame_future.now_tool2_none.count()\n",
    "now_tool2_spark=pro_frame_future.now_tool2_spark.count()\n",
    "now_tool2_samza=pro_frame_future.now_tool2_samza.count()\n",
    "now_tool2_flink=pro_frame_future.now_tool2_flink.count()\n",
    "now_tool2_hadoop=pro_frame_future.now_tool2_hadoop.count()\n",
    "now_tool2_hive=pro_frame_future.now_tool2_hive.count()\n",
    "now_tool2_pig=pro_frame_future.now_tool2_pig.count()\n",
    "now_tool2_tez=pro_frame_future.now_tool2_tez.count()\n",
    "now_tool2_beam=pro_frame_future.now_tool2_beam.count()\n",
    "now_tool2_dask=pro_frame_future.now_tool2_dask.count()\n",
    "now_tool2_other=pro_frame_future.now_tool2_other.count()\n",
    "now_pl_none=pro_frame_future.now_pl_none.count()\n",
    "now_pl_r=pro_frame_future.now_pl_r.count()\n",
    "now_pl_python=pro_frame_future.now_pl_python.count()\n",
    "now_pl_java=pro_frame_future.now_pl_java.count()\n",
    "now_pl_scala=pro_frame_future.now_pl_scala.count()\n",
    "now_pl_lua=pro_frame_future.now_pl_lua.count()\n",
    "now_pl_julia=pro_frame_future.now_pl_julia.count()\n",
    "now_pl_matlab=pro_frame_future.now_pl_matlab.count()\n",
    "now_pl_other=pro_frame_future.now_pl_other.count()\n",
    "future_pl_none=pro_frame_future.future_pl_none.count()\n",
    "future_pl_r=pro_frame_future.future_pl_r.count()\n",
    "future_pl_python=pro_frame_future.future_pl_python.count()\n",
    "future_pl_java=pro_frame_future.future_pl_java.count()\n",
    "future_pl_scala=pro_frame_future.future_pl_scala.count()\n",
    "future_pl_lua=pro_frame_future.future_pl_lua.count()\n",
    "future_pl_julia=pro_frame_future.future_pl_julia.count()\n",
    "future_pl_matlab=pro_frame_future.future_pl_matlab.count()\n",
    "future_pl_other=pro_frame_future.future_pl_other.count()\n",
    "\n",
    "response_total = pro_frame_now['Type'].count()\n",
    "print(response_total)\n",
    "\n",
    "#making lists of pl in use now vs future, setting them as percents\n",
    "pl_now=[now_pl_r,now_pl_python,now_pl_java,now_pl_scala,now_pl_lua,now_pl_julia,now_pl_matlab]\n",
    "pl_future=[future_pl_r,future_pl_python,future_pl_java,future_pl_scala,future_pl_lua,future_pl_julia,future_pl_matlab]\n",
    "\n",
    "print(pl_now)\n",
    "for i in range(len(pl_now)):\n",
    "    pl_now[i]= round((pl_now[i]/response_total)*100,2)\n",
    "print(pl_now)\n",
    "\n",
    "print(pl_future)\n",
    "for i in range(len(pl_future)):\n",
    "    pl_future[i]= round((pl_future[i]/response_total)*100,2)\n",
    "print(pl_future)"
   ]
  },
  {
   "cell_type": "code",
   "execution_count": null,
   "metadata": {},
   "outputs": [],
   "source": [
    "labels=['R','Python','Java','Scala','Lua','Julia','Matlab']\n",
    "\n",
    "fig,ax022 = plt.subplots(figsize=(12, 12))\n",
    "width = .4\n",
    "x = np.arange(len(labels))\n",
    "ax022.grid(b=True, axis='both')\n",
    "ax022.set_axisbelow(True)\n",
    "rects1 = ax022.bar(x - width/2, pl_now, width, label='Now')\n",
    "rects2 = ax022.bar(x + width/2, pl_future, width, label='Future')\n",
    "ax022.set_title(\"Programming Respondants Use vs Planning to Start Using\")\n",
    "ax022.set_ylabel(\"Percent of Respondants\")\n",
    "ax022.set_xlabel(\"Languages\")\n",
    "ax022.legend()\n",
    "ax022.set_xticks(x)\n",
    "ax022.set_yticks([10,20,30,40,50,60,70,80])\n",
    "ax022.set_xticklabels(labels)\n",
    "fig.savefig('./Graphs/In_Use_Vs_Planned.png')"
   ]
  },
  {
   "cell_type": "code",
   "execution_count": null,
   "metadata": {},
   "outputs": [],
   "source": [
    "da_tools = [now_tool_RapidMiner,now_tool_KNIME,now_tool_Alteryx,now_tool_Angoss,now_tool_Azure,\n",
    "            now_tool_Dataiku,now_tool_Domino,now_tool_Apine]\n",
    "\n",
    "other_tools=[now_tool2_spark,now_tool2_samza,now_tool2_flink,now_tool2_hadoop,now_tool2_hive,\n",
    "             now_tool2_pig,now_tool2_tez,now_tool2_beam,now_tool2_dask]\n",
    "\n",
    "print(f'{da_tools},{other_tools}')\n",
    "\n",
    "for i in range(len(other_tools)):\n",
    "    other_tools[i]= round((other_tools[i]/response_total)*100,2)\n",
    "\n",
    "for i in range(len(da_tools)):\n",
    "    da_tools[i]= round((da_tools[i]/response_total)*100,2)\n",
    "print(f'{da_tools},{other_tools}')"
   ]
  },
  {
   "cell_type": "code",
   "execution_count": null,
   "metadata": {},
   "outputs": [],
   "source": [
    "#ended up not using this graph.\n",
    "\n",
    "labels_da_tools=['RapidMiner','KNIME','Alteryx','Angoss','Azure','Dataiku','Domino','Apine']\n",
    "\n",
    "fig,ax023 = plt.subplots(figsize=(12, 12))\n",
    "width_023 = 1\n",
    "x_023 = np.arange(len(labels_da_tools))\n",
    "ax023.grid(b=True, axis='y')\n",
    "ax023.set_axisbelow(True)\n",
    "rects1 = ax023.bar(x_023, da_tools)\n",
    "ax023.set_title(\"Tools in Use for Data Analysis\")\n",
    "ax023.set_ylabel(\"Percent of Respondants\")\n",
    "ax023.set_xlabel(\"Tools\")\n",
    "ax023.set_xticks(x_023)\n",
    "ax023.set_yticks([5,10,15,20])\n",
    "ax023.set_xticklabels(labels_da_tools,  rotation=60)\n",
    "fig.savefig('./Graphs/Tools_Data_Analyis.png')"
   ]
  },
  {
   "cell_type": "code",
   "execution_count": null,
   "metadata": {},
   "outputs": [],
   "source": [
    "#ended up not using this graph.\n",
    "labels_other_tools=['spark','samza','flink','hadoop','hive','pig','tez','beam','dask']\n",
    "\n",
    "fig,ax024 = plt.subplots(figsize=(12, 12))\n",
    "width_024 = 1\n",
    "x_024 = np.arange(len(labels_other_tools))\n",
    "ax024.grid(b=True, axis='y')\n",
    "ax024.set_axisbelow(True)\n",
    "rects1 = ax024.bar(x_024, other_tools)\n",
    "ax024.set_title(\"Other Tools in use by Respondants\")\n",
    "ax024.set_ylabel(\"Percent of Respondants\")\n",
    "ax024.set_xlabel(\"Tools\")\n",
    "ax024.set_xticks(x_024)\n",
    "ax024.set_yticks([5,10,15,20,25,30,35])\n",
    "ax024.set_xticklabels(labels_other_tools,  rotation=60)\n",
    "fig.savefig('./Graphs/Tools_Other.png')"
   ]
  },
  {
   "cell_type": "code",
   "execution_count": null,
   "metadata": {},
   "outputs": [],
   "source": []
  }
 ],
 "metadata": {
  "kernelspec": {
   "display_name": "Python 3",
   "language": "python",
   "name": "python3"
  },
  "language_info": {
   "codemirror_mode": {
    "name": "ipython",
    "version": 3
   },
   "file_extension": ".py",
   "mimetype": "text/x-python",
   "name": "python",
   "nbconvert_exporter": "python",
   "pygments_lexer": "ipython3",
   "version": "3.7.3"
  }
 },
 "nbformat": 4,
 "nbformat_minor": 2
}
